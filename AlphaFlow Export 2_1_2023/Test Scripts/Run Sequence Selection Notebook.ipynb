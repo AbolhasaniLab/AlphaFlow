{
 "cells": [
  {
   "cell_type": "markdown",
   "id": "71332e8a",
   "metadata": {},
   "source": [
    "**Import Modules and Functions**"
   ]
  },
  {
   "cell_type": "code",
   "execution_count": null,
   "id": "58a799b9",
   "metadata": {},
   "outputs": [],
   "source": [
    "import os\n",
    "import time\n",
    "import pandas as pd\n",
    "from sklearn.preprocessing import PowerTransformer\n",
    "import numpy as np\n",
    "np.set_printoptions(suppress=True)\n",
    "import warnings\n",
    "from sklearn.exceptions import ConvergenceWarning\n",
    "warnings.simplefilter(\"ignore\", category=ConvergenceWarning)\n",
    "\n",
    "import tkinter as tk\n",
    "from tkinter import Tk\n",
    "from tkinter.filedialog import askdirectory\n",
    "Tk().withdraw()\n",
    "path = askdirectory(title='Select Folder')\n",
    "os.chdir(path)\n",
    "\n",
    "\n",
    "\n",
    "from Functions import Encoding\n",
    "from Functions import BeliefModel\n",
    "from Functions import ForwardMapping\n",
    "from Functions import DecisionPolicy\n",
    "\n",
    "\n",
    "import importlib\n",
    "## to update files if any changes made\n",
    "importlib.reload(Encoding)\n",
    "importlib.reload(BeliefModel)\n",
    "importlib.reload(ForwardMapping)\n",
    "importlib.reload(DecisionPolicy)\n"
   ]
  },
  {
   "cell_type": "markdown",
   "id": "40d5d28a",
   "metadata": {},
   "source": [
    "**Select Training Data** "
   ]
  },
  {
   "cell_type": "code",
   "execution_count": 2,
   "id": "4dfc67c9",
   "metadata": {},
   "outputs": [],
   "source": [
    "for i in os.scandir(path):\n",
    "    if i.is_dir():\n",
    "        for file in os.listdir(i):\n",
    "            if \"Inputs Active\" in str(file):\n",
    "                xFilePath = os.path.join(i.path, file)\n",
    "            if \"Reward Active\" in str(file):\n",
    "                yFilePath = os.path.join(i.path, file)\n",
    "            if \"Inputs Pretrain Sequence Select\" in str(file):\n",
    "                xPreTrainFilePath = os.path.join(i.path, file)\n",
    "            if \"Reward Pretrain Sequence Select\" in str(file):\n",
    "                yPreTrainFilePath = os.path.join(i.path, file)\n",
    "                \n",
    "xPreTrain = pd.read_csv(xPreTrainFilePath)\n",
    "yPreTrain = pd.read_csv(yPreTrainFilePath)\n",
    "YPreTrain = yPreTrain.values\n",
    "XPreTrain = xPreTrain.values\n"
   ]
  },
  {
   "cell_type": "markdown",
   "id": "54d0e834",
   "metadata": {},
   "source": [
    "**Pick state, encoding, and structure specifications**"
   ]
  },
  {
   "cell_type": "code",
   "execution_count": 3,
   "id": "ff9c71c7",
   "metadata": {},
   "outputs": [],
   "source": [
    "#number of prior actions to include in the short term memory aspect of state\n",
    "MemorySteps = 4\n",
    "#define the encoding of actions steps\n",
    "BlockEncoding = 'One Hot'\n",
    "SubSamplingRate = 0.25\n",
    "RegressionModelStructure = 'Ensemble'\n",
    "ClassModelStructure = 'SKLearn Ensemble'"
   ]
  },
  {
   "cell_type": "markdown",
   "id": "cb5d8705",
   "metadata": {},
   "source": [
    "**Aquire updated data from the environment, encode the data for training, retrain belief models, and conduct rollout policy to decide next best action to take** "
   ]
  },
  {
   "cell_type": "code",
   "execution_count": null,
   "id": "31d035d0",
   "metadata": {},
   "outputs": [
    {
     "name": "stdout",
     "output_type": "stream",
     "text": [
      "[[1, 0.11111, 0.44444], array([ 1.58612023, -8.        ,  1.38552082,  0.83313768])]\n",
      "25.169254064559937\n"
     ]
    }
   ],
   "source": [
    "#give matlab time to update RL suggestion and measured data files\n",
    "yReading=True\n",
    "while yReading==True:\n",
    "    try:\n",
    "        xnew = pd.read_csv(xFilePath)\n",
    "        ynew = pd.read_csv(yFilePath)\n",
    "        yReading=False\n",
    "    except:\n",
    "        time.sleep(0.5)\n",
    "\n",
    "nX = 0\n",
    "#updating RL suggestion and measured data file (w/ not empty initial file wait conditions)\n",
    "# %%\n",
    "while nX < 20000:\n",
    "# %%\n",
    "    xnew = pd.read_csv(xFilePath)\n",
    "    ynew = pd.read_csv(yFilePath)\n",
    "\n",
    "    Xnew = xnew.values\n",
    "    Ynew = ynew.values\n",
    "\n",
    "    #X and Y are master training data file (before encoding for model training) used to retrain models between agent decisions\n",
    "    #X= action/suggested action  (i.e. actions 1,2,3,4, - not one hot encoded), Y=reward/response\n",
    "    X = np.append(XPreTrain, Xnew, axis=0)\n",
    "    Y = np.append(YPreTrain, Ynew, axis=0)\n",
    "\n",
    "    #yeo johnson transformation of measured data\n",
    "    YJFit = PowerTransformer(method='yeo-johnson')\n",
    "    YJFit.fit(Y)\n",
    "    Y = YJFit.transform(Y)\n",
    "\n",
    "    nX = np.shape(X)[0]\n",
    "    nY = np.shape(Y)[0]\n",
    "    #if not waiting on updated input/measured data files\n",
    "    if nY >= nX:\n",
    "        tic = time.time()\n",
    "\n",
    "        #encoding/formatting input and reward from measured data for use in models\n",
    "        State, Response, ClassState, ClassResponse = Encoding.X1Y1toStateResponse(X, Y, MemorySteps, BlockEncoding)\n",
    "\n",
    "        #belief model composed of regressor and classifier\n",
    "        Model = BeliefModel.TrainEnsembleSKLearnMLPRegressor(State, Response, 20, SubSamplingRate)\n",
    "        ClassModel = BeliefModel.TrainGradientBoostingClassifier(ClassState, ClassResponse)\n",
    "\n",
    "        Objective, ObjectiveErr, Actions, PredictionState, PredictionClassState, PredictionResponse, PredictionProbability = ForwardMapping.SubsamplePermutationX1Y1RState(\n",
    "            Model, ClassModel, X, Y, 20, 4, MemorySteps, BlockEncoding, RegressionModelStructure,\n",
    "            ClassModelStructure)\n",
    "\n",
    "        CurrentResponse = Response[-1:]\n",
    "\n",
    "        RecommendedAction, iRecommendedAction = DecisionPolicy.UpperConfidenceBounds1EnsembleSubSampling(Objective,\n",
    "                                                                                                    ObjectiveErr,\n",
    "                                                                                                    Actions,\n",
    "                                                                                                    CurrentResponse,\n",
    "                                                                                                    Model,\n",
    "                                                                                                    PredictionState,\n",
    "                                                                                                    X)\n",
    "        \n",
    "\n",
    "        Xsave = np.vstack([Xnew, RecommendedAction])\n",
    "        xsave = pd.DataFrame(Xsave, columns=['Block', 'Time', 'Volume'])\n",
    "        xsave.to_csv(xFilePath, index=False)\n",
    "\n",
    "        toc = time.time()\n",
    "        print(toc - tic)\n",
    "    else:\n",
    "        time.sleep(2)"
   ]
  },
  {
   "cell_type": "code",
   "execution_count": null,
   "id": "c3fc350c",
   "metadata": {},
   "outputs": [],
   "source": []
  }
 ],
 "metadata": {
  "kernelspec": {
   "display_name": "Python 3 (ipykernel)",
   "language": "python",
   "name": "python3"
  },
  "language_info": {
   "codemirror_mode": {
    "name": "ipython",
    "version": 3
   },
   "file_extension": ".py",
   "mimetype": "text/x-python",
   "name": "python",
   "nbconvert_exporter": "python",
   "pygments_lexer": "ipython3",
   "version": "3.9.7"
  }
 },
 "nbformat": 4,
 "nbformat_minor": 5
}
